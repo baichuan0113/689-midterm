{
 "cells": [
  {
   "cell_type": "code",
   "execution_count": 43,
   "id": "aa5591b7",
   "metadata": {},
   "outputs": [],
   "source": [
    "import pandas as pd\n",
    "import matplotlib.pyplot as plt\n",
    "import numpy as np\n",
    "import math\n",
    "import os\n",
    "import glob\n",
    "import re"
   ]
  },
  {
   "cell_type": "code",
   "execution_count": 2,
   "id": "f72ca517",
   "metadata": {},
   "outputs": [
    {
     "data": {
      "text/html": [
       "<div>\n",
       "<style scoped>\n",
       "    .dataframe tbody tr th:only-of-type {\n",
       "        vertical-align: middle;\n",
       "    }\n",
       "\n",
       "    .dataframe tbody tr th {\n",
       "        vertical-align: top;\n",
       "    }\n",
       "\n",
       "    .dataframe thead th {\n",
       "        text-align: right;\n",
       "    }\n",
       "</style>\n",
       "<table border=\"1\" class=\"dataframe\">\n",
       "  <thead>\n",
       "    <tr style=\"text-align: right;\">\n",
       "      <th></th>\n",
       "      <th>x</th>\n",
       "      <th>y</th>\n",
       "      <th>time</th>\n",
       "    </tr>\n",
       "  </thead>\n",
       "  <tbody>\n",
       "    <tr>\n",
       "      <th>0</th>\n",
       "      <td>242</td>\n",
       "      <td>376</td>\n",
       "      <td>1.727460e+09</td>\n",
       "    </tr>\n",
       "    <tr>\n",
       "      <th>1</th>\n",
       "      <td>241</td>\n",
       "      <td>373</td>\n",
       "      <td>1.727460e+09</td>\n",
       "    </tr>\n",
       "    <tr>\n",
       "      <th>2</th>\n",
       "      <td>240</td>\n",
       "      <td>369</td>\n",
       "      <td>1.727460e+09</td>\n",
       "    </tr>\n",
       "    <tr>\n",
       "      <th>3</th>\n",
       "      <td>240</td>\n",
       "      <td>362</td>\n",
       "      <td>1.727460e+09</td>\n",
       "    </tr>\n",
       "    <tr>\n",
       "      <th>4</th>\n",
       "      <td>242</td>\n",
       "      <td>358</td>\n",
       "      <td>1.727460e+09</td>\n",
       "    </tr>\n",
       "  </tbody>\n",
       "</table>\n",
       "</div>"
      ],
      "text/plain": [
       "     x    y          time\n",
       "0  242  376  1.727460e+09\n",
       "1  241  373  1.727460e+09\n",
       "2  240  369  1.727460e+09\n",
       "3  240  362  1.727460e+09\n",
       "4  242  358  1.727460e+09"
      ]
     },
     "execution_count": 2,
     "metadata": {},
     "output_type": "execute_result"
    }
   ],
   "source": [
    "df1 = pd.read_csv('3fingers_gzn/ego/3_a_ego.csv')\n",
    "df1.head()"
   ]
  },
  {
   "cell_type": "code",
   "execution_count": 44,
   "id": "4df7e475",
   "metadata": {},
   "outputs": [],
   "source": [
    "def f1(df): # cos of initial\n",
    "    x0 = df['x'][0]\n",
    "    x2 = df['x'][2]\n",
    "    y0 = df['y'][0]\n",
    "    y2 = df['y'][2]\n",
    "    \n",
    "    x = x2 - x0\n",
    "    y = y2 - y0\n",
    "    \n",
    "    return x / math.sqrt(x**2 + y**2 ) "
   ]
  },
  {
   "cell_type": "code",
   "execution_count": 45,
   "id": "c041f812",
   "metadata": {},
   "outputs": [],
   "source": [
    "def f2(df): # sin of initial\n",
    "    x0 = df['x'][0]\n",
    "    x2 = df['x'][2]\n",
    "    y0 = df['y'][0]\n",
    "    y2 = df['y'][2]\n",
    "    \n",
    "    x = x2 - x0\n",
    "    y = y2 - y0\n",
    "    \n",
    "    return y / math.sqrt(x**2 + y**2 ) "
   ]
  },
  {
   "cell_type": "code",
   "execution_count": 46,
   "id": "80507c28",
   "metadata": {},
   "outputs": [],
   "source": [
    "def f3(df): # Length of Diagonal of Bounding Box\n",
    "    max_x = df['x'].max()\n",
    "    max_y = df['y'].max()\n",
    "    \n",
    "    min_x = df['x'].min()\n",
    "    min_y = df['y'].min()\n",
    "    \n",
    "    return math.sqrt((max_y - min_y)**2 + (max_x - min_x)**2)"
   ]
  },
  {
   "cell_type": "code",
   "execution_count": 47,
   "id": "843e0718",
   "metadata": {},
   "outputs": [],
   "source": [
    "def f4(df): # Angle of Bounding Box\n",
    "    max_x = df['x'].max()\n",
    "    max_y = df['y'].max()\n",
    "    \n",
    "    min_x = df['x'].min()\n",
    "    min_y = df['y'].min()\n",
    "    \n",
    "    if max_x - min_x == 0:\n",
    "        return 1.571\n",
    "    \n",
    "    return math.atan((max_y - min_y) / (max_x - min_x))"
   ]
  },
  {
   "cell_type": "code",
   "execution_count": 48,
   "id": "8585ba39",
   "metadata": {},
   "outputs": [],
   "source": [
    "def f5(df): # Distance between endpoints\n",
    "    x0 = df['x'][0]\n",
    "    y0 = df['y'][0]\n",
    "    \n",
    "    xlast = df['x'][len(df['x']) - 1]\n",
    "    ylast = df['y'][len(df['y']) - 1]\n",
    "    \n",
    "    return math.sqrt((ylast - y0)**2 + (xlast - x0)**2)"
   ]
  },
  {
   "cell_type": "code",
   "execution_count": 49,
   "id": "2fee2ba6",
   "metadata": {},
   "outputs": [],
   "source": [
    "def f6(df): # Sine of Endpoints Angle\n",
    "    x0 = df['x'][0]\n",
    "    y0 = df['y'][0]\n",
    "    \n",
    "    xlast = df['x'][len(df['x']) - 1]\n",
    "    ylast = df['y'][len(df['y']) - 1]\n",
    "    \n",
    "    x = xlast - x0\n",
    "    y = ylast - y0\n",
    "    \n",
    "    return x / math.sqrt(x**2 + y**2) "
   ]
  },
  {
   "cell_type": "code",
   "execution_count": 50,
   "id": "b613c10c",
   "metadata": {},
   "outputs": [],
   "source": [
    "def f7(df): # Cosine of Endpoints Angle\n",
    "    x0 = df['x'][0]\n",
    "    y0 = df['y'][0]\n",
    "    \n",
    "    xlast = df['x'][len(df['x']) - 1]\n",
    "    ylast = df['y'][len(df['y']) - 1]\n",
    "    \n",
    "    x = xlast - x0\n",
    "    y = ylast - y0\n",
    "    \n",
    "    return y / math.sqrt(x**2 + y**2 ) "
   ]
  },
  {
   "cell_type": "code",
   "execution_count": 51,
   "id": "2cf7eb03",
   "metadata": {},
   "outputs": [],
   "source": [
    "def f8(df): # Stroke Length\n",
    "    res = 0\n",
    "    for i in range(1, len(df['x']) - 1):\n",
    "        res += math.sqrt((df['x'][i] - df['x'][i - 1]) ** 2 + (df['y'][i] - df['y'][i - 1]) ** 2)\n",
    "        \n",
    "    return res"
   ]
  },
  {
   "cell_type": "code",
   "execution_count": 52,
   "id": "00f9b540",
   "metadata": {},
   "outputs": [],
   "source": [
    "def f9(df): # total relative rotation\n",
    "    res = 0\n",
    "    n = len(df)\n",
    "    deltaxi = df['x'].diff()\n",
    "    deltayi = df['delta_y'] = df['y'].diff()\n",
    "\n",
    "    # Δx_(i-1) and Δy_(i-1)\n",
    "    delta_x_prev = deltaxi.shift(1)\n",
    "    delta_y_prev = deltayi.shift(1)\n",
    "    \n",
    "    angles = np.arctan2(\n",
    "        deltaxi * delta_y_prev - delta_x_prev * deltayi,\n",
    "        deltaxi * delta_x_prev + deltayi * delta_y_prev\n",
    "    )\n",
    "    \n",
    "    return angles[2:n-1].sum()"
   ]
  },
  {
   "cell_type": "code",
   "execution_count": 53,
   "id": "9e416fab",
   "metadata": {},
   "outputs": [],
   "source": [
    "def f10(df): # total absolute rotation\n",
    "    res = 0\n",
    "    n = len(df)\n",
    "    deltaxi = df['x'].diff()\n",
    "    deltayi = df['delta_y'] = df['y'].diff()\n",
    "\n",
    "    # Δx_(i-1) and Δy_(i-1)\n",
    "    delta_x_prev = deltaxi.shift(1)\n",
    "    delta_y_prev = deltayi.shift(1)\n",
    "    \n",
    "    angles = np.arctan2(\n",
    "        deltaxi * delta_y_prev - delta_x_prev * deltayi,\n",
    "        deltaxi * delta_x_prev + deltayi * delta_y_prev\n",
    "    )\n",
    "    res = 0\n",
    "    for i in angles[2:n-1]: \n",
    "        res += abs(i)\n",
    "    \n",
    "    return res"
   ]
  },
  {
   "cell_type": "code",
   "execution_count": 54,
   "id": "0b39b0e1",
   "metadata": {},
   "outputs": [],
   "source": [
    "def f11(df): # total squared rotation\n",
    "    res = 0\n",
    "    n = len(df)\n",
    "    deltaxi = df['x'].diff()\n",
    "    deltayi = df['delta_y'] = df['y'].diff()\n",
    "\n",
    "    # Δx_(i-1) and Δy_(i-1)\n",
    "    delta_x_prev = deltaxi.shift(1)\n",
    "    delta_y_prev = deltayi.shift(1)\n",
    "    \n",
    "    angles = np.arctan2(\n",
    "        deltaxi * delta_y_prev - delta_x_prev * deltayi,\n",
    "        deltaxi * delta_x_prev + deltayi * delta_y_prev\n",
    "    )\n",
    "    res = 0\n",
    "    for i in angles[2:n-1]: \n",
    "        res += i ** 2\n",
    "    \n",
    "    return res"
   ]
  },
  {
   "cell_type": "code",
   "execution_count": 55,
   "id": "b264aeaf",
   "metadata": {},
   "outputs": [],
   "source": [
    "def f12(df): # maximum speed squared\n",
    "    res = 0\n",
    "    for i in range(1, len(df['x']) - 1):\n",
    "        if df['time'][i] - df['time'][i - 1] == 0:\n",
    "            continue\n",
    "        temp = ((df['x'][i] - df['x'][i - 1]) ** 2 + (df['y'][i] - df['y'][i - 1]) ** 2) / (df['time'][i] - df['time'][i - 1]) ** 2\n",
    "        res = max(res, temp)\n",
    "    \n",
    "    return res"
   ]
  },
  {
   "cell_type": "code",
   "execution_count": 56,
   "id": "eda82551",
   "metadata": {},
   "outputs": [],
   "source": [
    "def f13(df): # total duration\n",
    "    return df['time'][len(df) - 1] - df['time'][0]"
   ]
  },
  {
   "cell_type": "code",
   "execution_count": 57,
   "id": "3750b84f",
   "metadata": {},
   "outputs": [],
   "source": [
    "def f15(df): # stroke length ⁄ distance between endpoints\n",
    "    res = f8(df) / f5(df)\n",
    "    return res"
   ]
  },
  {
   "cell_type": "code",
   "execution_count": 71,
   "id": "308fa464",
   "metadata": {},
   "outputs": [],
   "source": [
    "# construct dataframe\n",
    "result = {\n",
    "    'sketch': [],\n",
    "    'f01': [],\n",
    "    'f02': [],\n",
    "    'f03': [],\n",
    "    'f04': [],\n",
    "    'f05': [],\n",
    "    'f06': [],\n",
    "    'f07': [],\n",
    "    'f08': [],\n",
    "    'f09': [],\n",
    "    'f10': [],\n",
    "    'f11': [],\n",
    "    'f12': [],\n",
    "    'f13': [],\n",
    "    'f15': []\n",
    "}\n",
    "\n",
    "# Create the DataFrame\n",
    "result_df = pd.DataFrame(result)"
   ]
  },
  {
   "cell_type": "code",
   "execution_count": null,
   "id": "2933e654",
   "metadata": {},
   "outputs": [],
   "source": []
  },
  {
   "cell_type": "code",
   "execution_count": 72,
   "id": "6e0ef53c",
   "metadata": {},
   "outputs": [
    {
     "name": "stderr",
     "output_type": "stream",
     "text": [
      "/var/folders/78/z0r8ycv11bx75tjy78t_lnsr0000gn/T/ipykernel_47211/2160737091.py:10: RuntimeWarning: invalid value encountered in true_divide\n",
      "  return x / math.sqrt(x**2 + y**2 )\n"
     ]
    }
   ],
   "source": [
    "main_folder_path = '3fingers_gzn'\n",
    "\n",
    "subfolders = sorted([f for f in os.listdir(main_folder_path) if os.path.isdir(os.path.join(main_folder_path, f))])\n",
    "def extract_number(filename):\n",
    "    match = re.search(r'_(\\d+)\\.csv', filename)\n",
    "    return int(match.group(1)) if match else float('inf')  # Use 'inf' for files without a number\n",
    "\n",
    "\n",
    "for subfolder in subfolders:\n",
    "    subfolder_path = os.path.join(main_folder_path, subfolder)\n",
    "    \n",
    "    # Check if the subfolder path is a directory\n",
    "    \n",
    "    if os.path.isdir(subfolder_path):\n",
    "        # Get all CSV files in the subfolder\n",
    "        \n",
    "        csv_files = glob.glob(os.path.join(subfolder_path, '*.csv'))\n",
    "        csv_files_sorted = sorted(csv_files, key=lambda x: extract_number(os.path.basename(x)))\n",
    "        \n",
    "#         print(subfolder_path)\n",
    "        # Loop through the CSV files in the subfolder and read them\n",
    "        for file in csv_files_sorted:\n",
    "            name = os.path.splitext(os.path.basename(file))[0]\n",
    "#             print(name)\n",
    "            df = pd.read_csv(file)\n",
    "            \n",
    "        # add a new row\n",
    "            new_row = {'sketch': name, 'f01': f1(df), 'f02': f2(df), 'f03': f3(df), \n",
    "                       'f04': f4(df), 'f05': f5(df), 'f06': f6(df), 'f07': f7(df),\n",
    "                       'f08': f8(df), 'f09': f9(df), 'f10': f10(df), 'f11': f11(df),\n",
    "                       'f12': f12(df), 'f13': f13(df),'f15': f15(df)}\n",
    "                    \n",
    "            result_df = pd.concat([result_df, pd.DataFrame([new_row])], ignore_index=True)"
   ]
  },
  {
   "cell_type": "code",
   "execution_count": null,
   "id": "9756c9e7",
   "metadata": {},
   "outputs": [],
   "source": []
  },
  {
   "cell_type": "code",
   "execution_count": 73,
   "id": "e0511b25",
   "metadata": {},
   "outputs": [],
   "source": [
    "result_df.to_csv('3fingers_gzn_features.csv', index=False)"
   ]
  },
  {
   "cell_type": "code",
   "execution_count": null,
   "id": "6c040a34",
   "metadata": {},
   "outputs": [],
   "source": []
  }
 ],
 "metadata": {
  "kernelspec": {
   "display_name": "Python 3 (ipykernel)",
   "language": "python",
   "name": "python3"
  },
  "language_info": {
   "codemirror_mode": {
    "name": "ipython",
    "version": 3
   },
   "file_extension": ".py",
   "mimetype": "text/x-python",
   "name": "python",
   "nbconvert_exporter": "python",
   "pygments_lexer": "ipython3",
   "version": "3.9.12"
  }
 },
 "nbformat": 4,
 "nbformat_minor": 5
}
